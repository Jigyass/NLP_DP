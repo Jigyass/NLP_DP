{
 "cells": [
  {
   "cell_type": "code",
   "execution_count": 1,
   "id": "3ffcc3bc-23ab-4568-8d84-929db51b2696",
   "metadata": {},
   "outputs": [],
   "source": [
    "import torch\n",
    "from transformers import BertConfig, BertForSequenceClassification, BertTokenizer\n",
    "from torch.utils.data import DataLoader\n",
    "from datasets import load_dataset\n",
    "import matplotlib.pyplot as plt\n",
    "from datasets import load_dataset"
   ]
  },
  {
   "cell_type": "code",
   "execution_count": 3,
   "id": "11689a04-e089-4946-8e2d-3677511a5260",
   "metadata": {},
   "outputs": [],
   "source": [
    "# Define a BERT configuration for training from scratch\n",
    "config = BertConfig(\n",
    "    vocab_size=30522,  # Standard BERT vocabulary size\n",
    "    hidden_size=768,   # Embedding dimension\n",
    "    num_hidden_layers=12,  # Number of transformer blocks\n",
    "    num_attention_heads=12, # Number of attention heads per block\n",
    "    intermediate_size=3072, # Feedforward layer dimension\n",
    "    num_labels=2            # For binary classification (positive/negative)\n",
    ")\n",
    "\n",
    "# Initialize an untrained BERT model for sequence classification\n",
    "model = BertForSequenceClassification(config)\n",
    "\n",
    "# Load the BERT tokenizer\n",
    "tokenizer = BertTokenizer.from_pretrained('bert-base-uncased')\n"
   ]
  },
  {
   "cell_type": "code",
   "execution_count": 4,
   "id": "54345748-10a5-49d6-bf12-41966906e028",
   "metadata": {},
   "outputs": [
    {
     "name": "stdout",
     "output_type": "stream",
     "text": [
      "Dataset({\n",
      "    features: ['text', 'label'],\n",
      "    num_rows: 25000\n",
      "})\n",
      "Dataset({\n",
      "    features: ['text', 'label'],\n",
      "    num_rows: 25000\n",
      "})\n"
     ]
    }
   ],
   "source": [
    "# Load the IMDb dataset\n",
    "dataset = load_dataset(\"imdb\")\n",
    "\n",
    "# Split the dataset into training and test sets\n",
    "train_dataset = dataset[\"train\"]\n",
    "test_dataset = dataset[\"test\"]\n",
    "\n",
    "# Display the structure of the dataset\n",
    "print(train_dataset)\n",
    "print(test_dataset)"
   ]
  },
  {
   "cell_type": "code",
   "execution_count": 7,
   "id": "5f8ade51-a078-42fc-b6c9-da74b6303b71",
   "metadata": {},
   "outputs": [
    {
     "data": {
      "application/vnd.jupyter.widget-view+json": {
       "model_id": "5a41eec897e446c1b4a4000bacbd37ad",
       "version_major": 2,
       "version_minor": 0
      },
      "text/plain": [
       "Map:   0%|          | 0/25000 [00:00<?, ? examples/s]"
      ]
     },
     "metadata": {},
     "output_type": "display_data"
    },
    {
     "data": {
      "application/vnd.jupyter.widget-view+json": {
       "model_id": "ded103dc96864676b31149649ead1c12",
       "version_major": 2,
       "version_minor": 0
      },
      "text/plain": [
       "Map:   0%|          | 0/25000 [00:00<?, ? examples/s]"
      ]
     },
     "metadata": {},
     "output_type": "display_data"
    },
    {
     "name": "stdout",
     "output_type": "stream",
     "text": [
      "Dataset({\n",
      "    features: ['label', 'input_ids', 'token_type_ids', 'attention_mask'],\n",
      "    num_rows: 25000\n",
      "})\n",
      "Dataset({\n",
      "    features: ['label', 'input_ids', 'token_type_ids', 'attention_mask'],\n",
      "    num_rows: 25000\n",
      "})\n"
     ]
    }
   ],
   "source": [
    "# Define a function to tokenize the input texts with max_length set to 256\n",
    "def preprocess_function(examples):\n",
    "    return tokenizer(examples['text'], padding=\"max_length\", truncation=True, max_length=256)\n",
    "\n",
    "# Apply the tokenizer to the entire dataset\n",
    "encoded_train_dataset = train_dataset.map(preprocess_function, batched=True)\n",
    "encoded_test_dataset = test_dataset.map(preprocess_function, batched=True)\n",
    "\n",
    "# Remove the text column since it's no longer needed after tokenization\n",
    "encoded_train_dataset = encoded_train_dataset.remove_columns([\"text\"])\n",
    "encoded_test_dataset = encoded_test_dataset.remove_columns([\"text\"])\n",
    "\n",
    "# Set the format to PyTorch tensors\n",
    "encoded_train_dataset.set_format(\"torch\")\n",
    "encoded_test_dataset.set_format(\"torch\")\n",
    "\n",
    "# Display the structure of the processed datasets\n",
    "print(encoded_train_dataset)\n",
    "print(encoded_test_dataset)\n"
   ]
  },
  {
   "cell_type": "code",
   "execution_count": 8,
   "id": "ead9e7d1-8e05-451d-abd0-a0bf385999d1",
   "metadata": {},
   "outputs": [
    {
     "name": "stdout",
     "output_type": "stream",
     "text": [
      "{'label': tensor([0, 0, 0, 1, 0, 1, 1, 0, 1, 1, 0, 0, 1, 0, 0, 0]), 'input_ids': tensor([[ 101, 3564, 2091,  ..., 3014, 1010,  102],\n",
      "        [ 101, 1996, 2627,  ...,    0,    0,    0],\n",
      "        [ 101, 1045, 2179,  ...,    0,    0,    0],\n",
      "        ...,\n",
      "        [ 101, 2023, 2001,  ...,    0,    0,    0],\n",
      "        [ 101, 2023, 2003,  ...,    0,    0,    0],\n",
      "        [ 101, 1045, 3427,  ..., 1996, 3663,  102]]), 'token_type_ids': tensor([[0, 0, 0,  ..., 0, 0, 0],\n",
      "        [0, 0, 0,  ..., 0, 0, 0],\n",
      "        [0, 0, 0,  ..., 0, 0, 0],\n",
      "        ...,\n",
      "        [0, 0, 0,  ..., 0, 0, 0],\n",
      "        [0, 0, 0,  ..., 0, 0, 0],\n",
      "        [0, 0, 0,  ..., 0, 0, 0]]), 'attention_mask': tensor([[1, 1, 1,  ..., 1, 1, 1],\n",
      "        [1, 1, 1,  ..., 0, 0, 0],\n",
      "        [1, 1, 1,  ..., 0, 0, 0],\n",
      "        ...,\n",
      "        [1, 1, 1,  ..., 0, 0, 0],\n",
      "        [1, 1, 1,  ..., 0, 0, 0],\n",
      "        [1, 1, 1,  ..., 1, 1, 1]])}\n"
     ]
    }
   ],
   "source": [
    "from torch.utils.data import DataLoader\n",
    "\n",
    "# Define the batch size\n",
    "batch_size = 16\n",
    "\n",
    "# Create data loaders for training and testing\n",
    "train_dataloader = DataLoader(encoded_train_dataset, shuffle=True, batch_size=batch_size)\n",
    "test_dataloader = DataLoader(encoded_test_dataset, batch_size=batch_size)\n",
    "\n",
    "# Display an example batch to confirm everything is working\n",
    "for batch in train_dataloader:\n",
    "    print(batch)\n",
    "    break  # Print only the first batch for verification\n"
   ]
  },
  {
   "cell_type": "code",
   "execution_count": 9,
   "id": "1d9c063f-a69f-41af-8445-c3ed24740245",
   "metadata": {},
   "outputs": [],
   "source": [
    "from torch.optim import AdamW\n",
    "import torch.nn as nn\n",
    "\n",
    "# Define the optimizer - AdamW with weight decay\n",
    "optimizer = AdamW(model.parameters(), lr=5e-5)\n",
    "\n",
    "# Define the loss function - CrossEntropyLoss for binary classification\n",
    "loss_fn = nn.CrossEntropyLoss()\n"
   ]
  },
  {
   "cell_type": "code",
   "execution_count": 13,
   "id": "b23deea8-a1bf-456d-b6c4-5ec5b49b2cec",
   "metadata": {},
   "outputs": [
    {
     "name": "stdout",
     "output_type": "stream",
     "text": [
      "Epoch 1/3\n",
      "Average loss for epoch 1: 0.708169736277958\n",
      "Epoch 2/3\n",
      "Average loss for epoch 2: 0.7039172646714111\n",
      "Epoch 3/3\n",
      "Average loss for epoch 3: 0.7017565330708553\n"
     ]
    }
   ],
   "source": [
    "# Move the model to GPU if available\n",
    "device = torch.device(\"cuda\" if torch.cuda.is_available() else \"cpu\")\n",
    "model.to(device)\n",
    "\n",
    "# Training loop with model on the appropriate device\n",
    "model.train()  # Set the model to training mode\n",
    "\n",
    "epochs = 3\n",
    "loss_values = []\n",
    "\n",
    "for epoch in range(epochs):\n",
    "    print(f\"Epoch {epoch + 1}/{epochs}\")\n",
    "    total_loss = 0\n",
    "    \n",
    "    for batch in train_dataloader:\n",
    "        # Move batch data to the same device as the model\n",
    "        batch = {k: v.to(device) for k, v in batch.items()}\n",
    "\n",
    "        # Clear previously calculated gradients\n",
    "        optimizer.zero_grad()\n",
    "\n",
    "        # Perform a forward pass and compute the loss\n",
    "        outputs = model(input_ids=batch['input_ids'], attention_mask=batch['attention_mask'], labels=batch['label'])\n",
    "        loss = outputs.loss\n",
    "\n",
    "        # Backpropagate to compute gradients\n",
    "        loss.backward()\n",
    "\n",
    "        # Update parameters with optimizer\n",
    "        optimizer.step()\n",
    "\n",
    "        # Accumulate the loss\n",
    "        total_loss += loss.item()\n",
    "    \n",
    "    # Store average loss for this epoch\n",
    "    avg_loss = total_loss / len(train_dataloader)\n",
    "    loss_values.append(avg_loss)\n",
    "    print(f\"Average loss for epoch {epoch + 1}: {avg_loss}\")\n"
   ]
  },
  {
   "cell_type": "code",
   "execution_count": 14,
   "id": "80bb8b56-51ed-4fe7-ad1e-31b351255d93",
   "metadata": {},
   "outputs": [
    {
     "data": {
      "image/png": "[encoded data removed]",
      "text/plain": [
       "<Figure size 800x600 with 1 Axes>"
      ]
     },
     "metadata": {},
     "output_type": "display_data"
    }
   ],
   "source": [
    "import matplotlib.pyplot as plt\n",
    "\n",
    "# Plot the loss values over epochs\n",
    "plt.figure(figsize=(8, 6))\n",
    "plt.plot(range(1, epochs + 1), loss_values, marker='o', label='Training Loss')\n",
    "plt.title('Training Loss Over Epochs')\n",
    "plt.xlabel('Epoch')\n",
    "plt.ylabel('Loss')\n",
    "plt.legend()\n",
    "plt.grid(True)\n",
    "plt.show()\n"
   ]
  },
  {
   "cell_type": "code",
   "execution_count": null,
   "id": "56b01401-c13c-462c-b085-d707a0ebf393",
   "metadata": {},
   "outputs": [],
   "source": [
    "# Save the model\n",
    "model.save_pretrained('sentiment-analysis-bert')\n",
    "\n",
    "# Save the tokenizer\n",
    "tokenizer.save_pretrained('sentiment-analysis-bert')\n",
    "\n",
    "print(\"Model and tokenizer saved successfully!\")\n"
   ]
  },
  {
   "cell_type": "code",
   "execution_count": 17,
   "id": "ee7ce826-b4eb-4450-a163-6de5e2b52d33",
   "metadata": {},
   "outputs": [
    {
     "name": "stdout",
     "output_type": "stream",
     "text": [
      "Accuracy on the test set: 50.00%\n"
     ]
    }
   ],
   "source": [
    "# Set the model to evaluation mode\n",
    "model.eval()\n",
    "\n",
    "# Tracking variables\n",
    "correct_predictions = 0\n",
    "total_predictions = 0\n",
    "\n",
    "# Disable gradient calculations for evaluation\n",
    "with torch.no_grad():\n",
    "    for batch in test_dataloader:\n",
    "        # Move batch data to the same device as the model\n",
    "        batch = {k: v.to(device) for k, v in batch.items()}\n",
    "\n",
    "        # Perform a forward pass and get logits\n",
    "        outputs = model(input_ids=batch['input_ids'], attention_mask=batch['attention_mask'])\n",
    "        logits = outputs.logits\n",
    "\n",
    "        # Get the predicted class (the index with the highest logit score)\n",
    "        predictions = torch.argmax(logits, dim=-1)\n",
    "\n",
    "        # Count correct predictions by comparing with true labels\n",
    "        correct_predictions += (predictions == batch['label']).sum().item()\n",
    "        total_predictions += batch['label'].size(0)\n",
    "\n",
    "# Calculate accuracy\n",
    "accuracy = correct_predictions / total_predictions\n",
    "print(f'Accuracy on the test set: {accuracy * 100:.2f}%')\n"
   ]
  },
  {
   "cell_type": "code",
   "execution_count": null,
   "id": "e4df6883-29f0-4dc6-90ea-f7b2c393648a",
   "metadata": {},
   "outputs": [],
   "source": []
  }
 ],
 "metadata": {
  "kernelspec": {
   "display_name": "Python 3 (ipykernel)",
   "language": "python",
   "name": "python3"
  },
  "language_info": {
   "codemirror_mode": {
    "name": "ipython",
    "version": 3
   },
   "file_extension": ".py",
   "mimetype": "text/x-python",
   "name": "python",
   "nbconvert_exporter": "python",
   "pygments_lexer": "ipython3",
   "version": "3.12.3"
  }
 },
 "nbformat": 4,
 "nbformat_minor": 5
}
